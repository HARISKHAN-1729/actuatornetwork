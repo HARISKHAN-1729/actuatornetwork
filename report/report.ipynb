{
 "cells": [
  {
   "cell_type": "markdown",
   "metadata": {},
   "source": [
    "Results"
   ]
  },
  {
   "cell_type": "markdown",
   "metadata": {},
   "source": [
    "Neural networks have been widely adopted in predictive modeling due to their ability to model complex non-linear relationships. Activation functions play a crucial role in these networks, influencing their learning capabilities and performance. While $\\textit{softmax}$ is traditionally used for classification tasks, $\\textit{ReLU}$ (Rectified Linear Unit) is favored in regression models for its ability to introduce non-linearity without affecting the scale of the output. This study aims to assess the impact of these activation functions in the specific context of torque prediction.\n",
    "\n"
   ]
  },
  {
   "cell_type": "markdown",
   "metadata": {},
   "source": [
    "I developed two models to explore the impact of different activation functions on performance. The first model, based on a previous paper, used the softmax function. For the second model, I introduced a variation by replacing softmax with the rectified linear unit (ReLU) function, known for its non-linear property. Both models underwent identical training and evaluation to enable a fair comparison. The findings from this comparative analysis are intended to deepen our understanding of how activation functions influence the behavior and effectiveness of neural networks.\n",
    "\n",
    "\n",
    "\n",
    "\n",
    "\n",
    "\n",
    "\n"
   ]
  },
  {
   "cell_type": "markdown",
   "metadata": {},
   "source": [
    "Actuator_net 1 (From paper)\n",
    "\n",
    "Hwangbo, Jemin, et al. \"Learning Agile and Dynamic Motor Skills for Legged Robots.\" Science Robotics, vol. 4, no. 26, 2019, pp. eaau5872. Science, https://www.science.org/doi/abs/10.1126/scirobotics.aau5872.\n",
    "\n",
    "\n",
    "\n",
    "\n",
    "\n",
    "\n"
   ]
  },
  {
   "cell_type": "markdown",
   "metadata": {},
   "source": [
    "\n",
    "These three graphs depict the evolution of metrics over epochs. It can be observed that both the Mean Absolute Error (MAE) and the Root Mean Square Error (RMSE) decrease with each epoch. This trend indicates that the model is learning effectively."
   ]
  },
  {
   "cell_type": "markdown",
   "metadata": {},
   "source": [
    "![Metrics Evolution (Actuator_net1)](paper_net_metric_evolution.png)\n"
   ]
  },
  {
   "cell_type": "markdown",
   "metadata": {},
   "source": [
    "From the graph, it's evident that the predicted values closely follow the actual values, demonstrating the model's effectiveness in capturing the dynamics of the system. The top of the graph displays two key performance metrics: the Mean Absolute Error (MAE) is 2.0077 and the Root Mean Squared Error (RMSE) is 2.9864."
   ]
  },
  {
   "cell_type": "markdown",
   "metadata": {},
   "source": [
    "![Output vs ground truth (Actuator_net1)](Output_papernet.png)\n"
   ]
  },
  {
   "cell_type": "markdown",
   "metadata": {},
   "source": [
    "Actutor Net 2 (Custom  model with relu)"
   ]
  },
  {
   "cell_type": "markdown",
   "metadata": {},
   "source": [
    "\n",
    "This revised model, which mirrors the structure of the first, differentiates itself by utilizing the ReLU (Rectified Linear Unit) activation function instead of the activation function used in the original model. \n"
   ]
  },
  {
   "cell_type": "markdown",
   "metadata": {},
   "source": [
    "Across all graphs, the close tracking of training and validation lines post-initial epochs suggests that the model is neither underfitting nor overfitting significantly. The consistent and relatively parallel trajectories in the latter part of the training process across all metrics indicate good generalization on unseen data. "
   ]
  },
  {
   "cell_type": "markdown",
   "metadata": {},
   "source": [
    "![Metric evolution(Actuator_net2)](Custom_net_metrics_evolution.png)\n"
   ]
  },
  {
   "cell_type": "markdown",
   "metadata": {},
   "source": [
    "The performance metrics, Mean Absolute Error (MAE) of 1.8503 and Root Mean Squared Error (RMSE) of 2.9090, indicate the model's effectiveness in capturing the periodic torque patterns.\n",
    "\n",
    "\n",
    "\n",
    "\n",
    "\n",
    "\n"
   ]
  },
  {
   "cell_type": "markdown",
   "metadata": {},
   "source": [
    "![ground truth vs predicted](output_customnet1.png)\n",
    "\n"
   ]
  },
  {
   "cell_type": "markdown",
   "metadata": {},
   "source": [
    "Comparsion "
   ]
  },
  {
   "cell_type": "markdown",
   "metadata": {},
   "source": [
    "PapersNet =  actutaor net 1 \n",
    "\n",
    "\n",
    "Custom net = actutaor net 2"
   ]
  },
  {
   "cell_type": "markdown",
   "metadata": {},
   "source": [
    "![comparsion of two models](comparsion.png)\n"
   ]
  }
 ],
 "metadata": {
  "language_info": {
   "name": "python"
  }
 },
 "nbformat": 4,
 "nbformat_minor": 2
}
